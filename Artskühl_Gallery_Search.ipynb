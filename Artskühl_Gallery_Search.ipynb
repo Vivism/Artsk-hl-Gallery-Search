{
  "nbformat": 4,
  "nbformat_minor": 0,
  "metadata": {
    "colab": {
      "name": "Artskühl Gallery Search",
      "version": "0.3.2",
      "provenance": [],
      "collapsed_sections": [],
      "include_colab_link": true
    },
    "kernelspec": {
      "name": "python3",
      "display_name": "Python 3"
    }
  },
  "cells": [
    {
      "cell_type": "markdown",
      "metadata": {
        "id": "view-in-github",
        "colab_type": "text"
      },
      "source": [
        "<a href=\"https://colab.research.google.com/github/Vivism/Artskuhl-Gallery-Search/blob/master/Artsk%C3%BChl_Gallery_Search.ipynb\" target=\"_parent\"><img src=\"https://colab.research.google.com/assets/colab-badge.svg\" alt=\"Open In Colab\"/></a>"
      ]
    },
    {
      "metadata": {
        "id": "G3Q_mpQgIhiP",
        "colab_type": "text"
      },
      "cell_type": "markdown",
      "source": [
        "### Artskühl Gallery Search"
      ]
    },
    {
      "metadata": {
        "id": "-gBCpkAkEOXl",
        "colab_type": "code",
        "colab": {}
      },
      "cell_type": "code",
      "source": [
        "rm -rf sample_data"
      ],
      "execution_count": 0,
      "outputs": []
    },
    {
      "metadata": {
        "id": "M8KryZQCIq3J",
        "colab_type": "text"
      },
      "cell_type": "markdown",
      "source": [
        "#### Install TFP2"
      ]
    },
    {
      "metadata": {
        "id": "_2gZUHGHI6K3",
        "colab_type": "code",
        "colab": {
          "base_uri": "https://localhost:8080/",
          "height": 107
        },
        "outputId": "740751b3-058e-49bf-fba2-5ba17b9f31ec"
      },
      "cell_type": "code",
      "source": [
        "!git clone https://github.com/googlecodelabs/tensorflow-for-poets-2\n",
        "!mkdir tfp2\n",
        "!mv tensorflow-for-poets-2/scripts/* tfp2\n",
        "!rm -rf tensorflow-for-poets-2"
      ],
      "execution_count": 2,
      "outputs": [
        {
          "output_type": "stream",
          "text": [
            "Cloning into 'tensorflow-for-poets-2'...\n",
            "remote: Enumerating objects: 417, done.\u001b[K\n",
            "remote: Total 417 (delta 0), reused 0 (delta 0), pack-reused 417\u001b[K\n",
            "Receiving objects: 100% (417/417), 33.97 MiB | 27.45 MiB/s, done.\n",
            "Resolving deltas: 100% (155/155), done.\n"
          ],
          "name": "stdout"
        }
      ]
    },
    {
      "metadata": {
        "id": "OCLGwRhzIuFs",
        "colab_type": "text"
      },
      "cell_type": "markdown",
      "source": [
        "#### Install Graph"
      ]
    },
    {
      "metadata": {
        "id": "V9qhGMcUOTRd",
        "colab_type": "code",
        "colab": {}
      },
      "cell_type": "code",
      "source": [
        "!mkdir graph"
      ],
      "execution_count": 0,
      "outputs": []
    },
    {
      "metadata": {
        "id": "WpdKG8ipIxa8",
        "colab_type": "code",
        "colab": {
          "base_uri": "https://localhost:8080/",
          "height": 89
        },
        "outputId": "50bf1235-2cad-4f10-d9b8-084a5c6bfc9d"
      },
      "cell_type": "code",
      "source": [
        "import io\n",
        "from google.colab import auth\n",
        "from googleapiclient.discovery import build\n",
        "from googleapiclient.http import (\n",
        "  MediaFileUpload,\n",
        "  MediaIoBaseDownload\n",
        ")\n",
        "\n",
        "# auth user\n",
        "auth.authenticate_user()\n",
        "drive = build('drive', 'v3')\n",
        "\n",
        "# get parent folder\n",
        "res = drive.files().list(\n",
        "      q=f'name=\"online-search\" and trashed=false',\n",
        "      spaces='drive',\n",
        "      fields='files(id)',\n",
        "  ).execute().get('files')\n",
        "assert res and res[0], 'Graphs not found!'\n",
        "folder = res[0].get('id')\n",
        "\n",
        "# get graphs\n",
        "retrained = drive.files().list(q=f'\"{folder}\" in parents and trashed=false').execute().get('files')\n",
        "assert len(retrained) > 0, 'No graph in folder!'\n",
        "\n",
        "# download\n",
        "for file in retrained:\n",
        "  name = file.get('name')\n",
        "  path = f'./graph/{name}'\n",
        "  request = drive.files().get_media(fileId=file.get('id'))\n",
        "  fh = io.FileIO(path, 'wb')\n",
        "  downloader = MediaIoBaseDownload(fh, request)\n",
        "  done = False\n",
        "  while done is False:\n",
        "    print(f'Downloading {name}')\n",
        "    status, done = downloader.next_chunk()\n",
        "  print(f'Complete')"
      ],
      "execution_count": 4,
      "outputs": [
        {
          "output_type": "stream",
          "text": [
            "Downloading retrained_graph_2018-09-29-14-18-37.pb\n",
            "Complete\n",
            "Downloading retrained_labels_2018-09-29-14-18-37.txt\n",
            "Complete\n"
          ],
          "name": "stdout"
        }
      ]
    },
    {
      "metadata": {
        "id": "n4BWkE44I2lz",
        "colab_type": "text"
      },
      "cell_type": "markdown",
      "source": [
        "#### Set Image"
      ]
    },
    {
      "metadata": {
        "id": "rnpLcAZ3I5oS",
        "colab_type": "code",
        "colab": {}
      },
      "cell_type": "code",
      "source": [
        "IMAGE = \"http://www.artnet.com/WebServices/images/ll00006lldCqVJFgVeECfDrCWvaHBOcEUYF/lucian-freud-portrait-on-a-white-cover.jpg\""
      ],
      "execution_count": 0,
      "outputs": []
    },
    {
      "metadata": {
        "id": "iU1DIpH7IzIU",
        "colab_type": "text"
      },
      "cell_type": "markdown",
      "source": [
        "#### Download Image"
      ]
    },
    {
      "metadata": {
        "id": "bLN4aKqiOKoY",
        "colab_type": "code",
        "colab": {
          "base_uri": "https://localhost:8080/",
          "height": 215
        },
        "outputId": "36c38f6e-7518-4c9f-a486-8d7122a986ed"
      },
      "cell_type": "code",
      "source": [
        "!wget $IMAGE"
      ],
      "execution_count": 6,
      "outputs": [
        {
          "output_type": "stream",
          "text": [
            "--2019-03-05 05:10:58--  http://www.artnet.com/WebServices/images/ll00006lldCqVJFgVeECfDrCWvaHBOcEUYF/lucian-freud-portrait-on-a-white-cover.jpg\n",
            "Resolving www.artnet.com (www.artnet.com)... 104.17.235.7, 104.17.236.7\n",
            "Connecting to www.artnet.com (www.artnet.com)|104.17.235.7|:80... connected.\n",
            "HTTP request sent, awaiting response... 200 OK\n",
            "Length: 77310 (75K) [image/jpeg]\n",
            "Saving to: ‘lucian-freud-portrait-on-a-white-cover.jpg’\n",
            "\n",
            "\r          lucian-fr   0%[                    ]       0  --.-KB/s               \rlucian-freud-portra 100%[===================>]  75.50K  --.-KB/s    in 0.02s   \n",
            "\n",
            "2019-03-05 05:10:58 (4.27 MB/s) - ‘lucian-freud-portrait-on-a-white-cover.jpg’ saved [77310/77310]\n",
            "\n"
          ],
          "name": "stdout"
        }
      ]
    },
    {
      "metadata": {
        "id": "ZvrVg6aXO2UA",
        "colab_type": "code",
        "colab": {}
      },
      "cell_type": "code",
      "source": [
        "import os\n",
        "files = os.listdir()\n",
        "for file in files:\n",
        "  if file in IMAGE:\n",
        "    LOCAL_IMAGE = file\n",
        "    break"
      ],
      "execution_count": 0,
      "outputs": []
    },
    {
      "metadata": {
        "id": "lGHk4F79JMFJ",
        "colab_type": "text"
      },
      "cell_type": "markdown",
      "source": [
        "#### Run"
      ]
    },
    {
      "metadata": {
        "id": "j7uEgDd8JNfs",
        "colab_type": "code",
        "colab": {
          "base_uri": "https://localhost:8080/",
          "height": 577
        },
        "outputId": "c704290c-dacf-453f-a97d-710dfe06a28e"
      },
      "cell_type": "code",
      "source": [
        "!python ./tfp2/label_image.py\\\n",
        "  --graph=./graph/retrained_graph_2018-09-29-14-18-37.pb\\\n",
        "  --labels=./graph/retrained_labels_2018-09-29-14-18-37.txt\\\n",
        "  --image=$LOCAL_IMAGE"
      ],
      "execution_count": 8,
      "outputs": [
        {
          "output_type": "stream",
          "text": [
            "2019-03-05 05:11:02.398096: I tensorflow/core/platform/profile_utils/cpu_utils.cc:94] CPU Frequency: 2300000000 Hz\n",
            "2019-03-05 05:11:02.398372: I tensorflow/compiler/xla/service/service.cc:150] XLA service 0x1c9ac60 executing computations on platform Host. Devices:\n",
            "2019-03-05 05:11:02.398409: I tensorflow/compiler/xla/service/service.cc:158]   StreamExecutor device (0): <undefined>, <undefined>\n",
            "2019-03-05 05:11:02.509497: I tensorflow/stream_executor/cuda/cuda_gpu_executor.cc:998] successful NUMA node read from SysFS had negative value (-1), but there must be at least one NUMA node, so returning NUMA node zero\n",
            "2019-03-05 05:11:02.510268: I tensorflow/compiler/xla/service/service.cc:150] XLA service 0x1c9bce0 executing computations on platform CUDA. Devices:\n",
            "2019-03-05 05:11:02.510328: I tensorflow/compiler/xla/service/service.cc:158]   StreamExecutor device (0): Tesla K80, Compute Capability 3.7\n",
            "2019-03-05 05:11:02.510776: I tensorflow/core/common_runtime/gpu/gpu_device.cc:1433] Found device 0 with properties: \n",
            "name: Tesla K80 major: 3 minor: 7 memoryClockRate(GHz): 0.8235\n",
            "pciBusID: 0000:00:04.0\n",
            "totalMemory: 11.17GiB freeMemory: 8.90GiB\n",
            "2019-03-05 05:11:02.510814: I tensorflow/core/common_runtime/gpu/gpu_device.cc:1512] Adding visible gpu devices: 0\n",
            "2019-03-05 05:11:02.918240: I tensorflow/core/common_runtime/gpu/gpu_device.cc:984] Device interconnect StreamExecutor with strength 1 edge matrix:\n",
            "2019-03-05 05:11:02.918311: I tensorflow/core/common_runtime/gpu/gpu_device.cc:990]      0 \n",
            "2019-03-05 05:11:02.918329: I tensorflow/core/common_runtime/gpu/gpu_device.cc:1003] 0:   N \n",
            "2019-03-05 05:11:02.918603: W tensorflow/core/common_runtime/gpu/gpu_bfc_allocator.cc:42] Overriding allow_growth setting because the TF_FORCE_GPU_ALLOW_GROWTH environment variable is set. Original config value was 0.\n",
            "2019-03-05 05:11:02.918662: I tensorflow/core/common_runtime/gpu/gpu_device.cc:1115] Created TensorFlow device (/job:localhost/replica:0/task:0/device:GPU:0 with 8612 MB memory) -> physical GPU (device: 0, name: Tesla K80, pci bus id: 0000:00:04.0, compute capability: 3.7)\n",
            "2019-03-05 05:11:02.962372: I tensorflow/core/common_runtime/gpu/gpu_device.cc:1512] Adding visible gpu devices: 0\n",
            "2019-03-05 05:11:02.962446: I tensorflow/core/common_runtime/gpu/gpu_device.cc:984] Device interconnect StreamExecutor with strength 1 edge matrix:\n",
            "2019-03-05 05:11:02.962474: I tensorflow/core/common_runtime/gpu/gpu_device.cc:990]      0 \n",
            "2019-03-05 05:11:02.962500: I tensorflow/core/common_runtime/gpu/gpu_device.cc:1003] 0:   N \n",
            "2019-03-05 05:11:02.962733: I tensorflow/core/common_runtime/gpu/gpu_device.cc:1115] Created TensorFlow device (/job:localhost/replica:0/task:0/device:GPU:0 with 8612 MB memory) -> physical GPU (device: 0, name: Tesla K80, pci bus id: 0000:00:04.0, compute capability: 3.7)\n",
            "2019-03-05 05:11:03.233518: I tensorflow/stream_executor/dso_loader.cc:152] successfully opened CUDA library libcublas.so.10.0 locally\n",
            "\n",
            "Evaluation time (1-image): 1.316s\n",
            "\n",
            "the rooster gallery (score=0.08702)\n",
            "artemorfosis galeria de arte cubano (score=0.08358)\n",
            "tabla rasa gallery (score=0.06559)\n",
            "planthouse (score=0.05023)\n",
            "martos gallery (score=0.02733)\n"
          ],
          "name": "stdout"
        }
      ]
    }
  ]
}